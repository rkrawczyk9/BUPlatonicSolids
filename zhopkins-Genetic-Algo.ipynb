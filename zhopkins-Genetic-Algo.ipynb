{
 "cells": [
  {
   "cell_type": "code",
   "execution_count": 1,
   "metadata": {},
   "outputs": [],
   "source": [
    "#imports\n",
    "import numpy as np\n",
    "from geneticalgorithm import geneticalgorithm as ga\n",
    "import copy"
   ]
  },
  {
   "cell_type": "code",
   "execution_count": 2,
   "metadata": {},
   "outputs": [],
   "source": [
    "#helper functions\n",
    "\"\"\"\n",
    "vertArr = an array of numbers that represent vertices\n",
    "faceMatrix = matrix of each face of a shape and the vertices that touch them\n",
    "\n",
    "uses the face matrix to check if the vetArr is a coverage of it\n",
    "\"\"\"\n",
    "def solChecker(vertArr, faceMatrix):\n",
    "    #loops through each face\n",
    "    for face in faceMatrix:\n",
    "        #makes a list comperhension of all the verts in vert array that it is toching \n",
    "        #then checks if the length is 0\n",
    "        if len([i for i in vertArr if i in face]) == 0:\n",
    "            #if it is then it returns false\n",
    "            return False\n",
    "    #if it runs through every face then it is true\n",
    "    return True\n",
    "\n",
    "#function the determins the redundancy of a solution\n",
    "def redundancy(vertArr, faceMatrix):\n",
    "    redund = 0\n",
    "    #check if it is a solution\n",
    "    if not solChecker(vertArr,faceMatrix):\n",
    "        return -1\n",
    "    #loops through each face\n",
    "    for face in faceMatrix:\n",
    "        #creates a holing val\n",
    "        numOfVertsToching = 0\n",
    "        #loops through vertices\n",
    "        for vert in vertArr:\n",
    "            #if the face is touching the vert increase holding var\n",
    "            if vert in face:\n",
    "                numOfVertsToching += 1\n",
    "        #if the holding var is greater then 1 adds how many times the face is redundent\n",
    "        if numOfVertsToching > 1:\n",
    "            redund += 1\n",
    "    return redund\n",
    "\n",
    "#converter : changes [1,0,1,0] to [1,3]\n",
    "def binaryToVertArr(sol):\n",
    "    solArr = []\n",
    "    for i in range(0,len(sol)):\n",
    "        if sol[i] == 1:\n",
    "            solArr.append(i+1)\n",
    "    return solArr"
   ]
  },
  {
   "cell_type": "code",
   "execution_count": 3,
   "metadata": {},
   "outputs": [],
   "source": [
    "#Loading the 600cell into mem\n",
    "import csv\n",
    "faceMatrix = []\n",
    "with open('600cellFolder/sixhundredcell_3_corrected-Copy1.csv') as csvFile:\n",
    "    for row in csv.reader(csvFile, delimiter=','):\n",
    "        holdingarr = []\n",
    "        for i in row:\n",
    "            holdingarr.append(int(i))\n",
    "        faceMatrix.append(holdingarr)\n",
    "#print(faceMatrix)"
   ]
  },
  {
   "cell_type": "code",
   "execution_count": 4,
   "metadata": {},
   "outputs": [],
   "source": [
    "#create scoring function\n",
    "def solutionScore(binarySol):\n",
    "    score = 0\n",
    "    sol = binaryToVertArr(binarySol)\n",
    "    #loops though each face\n",
    "    for face in faceMatrix:\n",
    "        #makes a list comperhension of all the verts in vert array that it is toching \n",
    "        #then checks if the length is 0\n",
    "        if len([i for i in sol if i in face]) == 0:\n",
    "            #if it is then it returns false\n",
    "            score+=1\n",
    "        #calculates the redundency then adds to score\n",
    "        else:\n",
    "            numOfVertsToching = 0\n",
    "            #loops through vertices\n",
    "            for vert in sol:\n",
    "            #if the face is touching the vert increase holding var\n",
    "                if vert in face:\n",
    "                    numOfVertsToching += 1\n",
    "            #if the holding var is greater then 1 adds how many times the face is redundent\n",
    "            if numOfVertsToching > 1:\n",
    "                score += 1\n",
    "        \n",
    "    \n",
    "    return score"
   ]
  },
  {
   "cell_type": "code",
   "execution_count": 5,
   "metadata": {},
   "outputs": [
    {
     "name": "stdout",
     "output_type": "stream",
     "text": [
      "540\n"
     ]
    }
   ],
   "source": [
    "#tessting scoring function\n",
    "binarySol = [0,1,1,0,0,1]\n",
    "print(solutionScore(binarySol))"
   ]
  },
  {
   "cell_type": "code",
   "execution_count": 6,
   "metadata": {},
   "outputs": [],
   "source": [
    "#find the number of dims\n",
    "dim = np.max(faceMatrix)\n",
    "#creates varbounds\n",
    "varbounds = np.array([[0,1]]*dim)"
   ]
  },
  {
   "cell_type": "code",
   "execution_count": 8,
   "metadata": {
    "scrolled": false
   },
   "outputs": [
    {
     "name": "stdout",
     "output_type": "stream",
     "text": [
      " The best solution found:                                                                           \n",
      " [0. 0. 0. 0. 0. 1. 0. 0. 0. 0. 0. 0. 0. 0. 1. 1. 0. 1. 0. 0. 0. 0. 0. 1.\n",
      " 0. 0. 0. 1. 1. 1. 0. 1. 1. 1. 1. 0. 0. 0. 0. 0. 0. 0. 1. 0. 0. 1. 1. 1.\n",
      " 0. 0. 0. 1. 0. 0. 0. 0. 1. 1. 0. 0. 0. 0. 0. 0. 0. 0. 0. 0. 1. 0. 0. 0.\n",
      " 0. 0. 0. 0. 1. 1. 1. 0. 0. 0. 0. 0. 0. 0. 1. 0. 1. 0. 1. 1. 0. 0. 0. 0.\n",
      " 0. 0. 0. 0. 0. 0. 0. 0. 1. 0. 0. 0. 1. 0. 0. 0. 0. 0. 0. 0. 0. 1. 0. 0.]\n",
      "\n",
      " Objective function:\n",
      " 150.0\n"
     ]
    },
    {
     "data": {
      "image/png": "[encoded data removed]",
      "text/plain": [
       "<Figure size 432x288 with 1 Axes>"
      ]
     },
     "metadata": {
      "needs_background": "light"
     },
     "output_type": "display_data"
    }
   ],
   "source": [
    "#creates the model and runs it on default params\n",
    "model = ga(function = solutionScore, dimension = dim, variable_type = \"int\", variable_boundaries = varbounds)\n",
    "model.run()"
   ]
  },
  {
   "cell_type": "code",
   "execution_count": 3,
   "metadata": {},
   "outputs": [
    {
     "name": "stdout",
     "output_type": "stream",
     "text": [
      "[7, 16, 19, 21, 24, 25, 31, 32, 35, 38, 43, 44, 46, 47, 48, 49, 53, 55, 56, 60, 70, 76, 79, 80, 89, 93, 109, 113, 117] : Size - 29\n"
     ]
    }
   ],
   "source": [
    "bestSol = binaryToVertArr([0, 0, 0, 0, 0, 0, 1, 0, 0, 0, 0, 0, 0, 0, 0, 1, 0, 0, 1, 0, 1, 0, 0, 1,\n",
    " 1, 0, 0, 0, 0, 0, 1, 1, 0, 0, 1, 0, 0, 1, 0, 0, 0, 0, 1, 1, 0, 1, 1, 1,\n",
    " 1, 0, 0, 0, 1, 0, 1, 1, 0, 0, 0, 1, 0, 0, 0, 0, 0, 0, 0, 0, 0, 1, 0, 0,\n",
    " 0, 0, 0, 1, 0, 0, 1, 1, 0, 0, 0, 0, 0, 0, 0, 0, 1, 0, 0, 0, 1, 0, 0, 0,\n",
    " 0, 0, 0, 0, 0, 0, 0, 0, 0, 0, 0, 0, 1, 0, 0, 0, 1, 0, 0, 0, 1, 0, 0, 0])\n",
    "\n",
    "print(\"{0} : Size - {1}\".format(bestSol,len(bestSol)))\n"
   ]
  },
  {
   "cell_type": "code",
   "execution_count": 7,
   "metadata": {},
   "outputs": [
    {
     "name": "stdout",
     "output_type": "stream",
     "text": [
      " The best solution found:                                                                           \n",
      " [0. 0. 1. 0. 0. 0. 1. 0. 1. 1. 0. 0. 1. 0. 0. 1. 1. 1. 0. 0. 0. 1. 0. 0.\n",
      " 1. 0. 0. 0. 0. 0. 1. 1. 1. 1. 1. 0. 0. 0. 0. 0. 0. 0. 0. 1. 0. 0. 0. 0.\n",
      " 1. 0. 0. 0. 0. 1. 1. 0. 0. 0. 0. 0. 0. 1. 0. 1. 1. 0. 0. 0. 1. 0. 0. 0.\n",
      " 0. 0. 0. 0. 0. 0. 0. 0. 1. 0. 0. 0. 0. 0. 0. 0. 0. 0. 0. 0. 1. 0. 0. 0.\n",
      " 0. 0. 0. 0. 0. 0. 0. 0. 0. 1. 1. 1. 0. 0. 0. 0. 0. 0. 0. 0. 0. 1. 0. 0.]\n",
      "\n",
      " Objective function:\n",
      " 164.0\n"
     ]
    },
    {
     "data": {
      "image/png": "[encoded data removed]",
      "text/plain": [
       "<Figure size 432x288 with 1 Axes>"
      ]
     },
     "metadata": {
      "needs_background": "light"
     },
     "output_type": "display_data"
    }
   ],
   "source": [
    "#Trying diffrent params\n",
    "algoParams={'max_num_iteration': 10000,\n",
    "            'population_size':100,\n",
    "            'mutation_probability':0.1,\n",
    "            'elit_ratio': 0.01,\n",
    "            'crossover_probability': 0.5,\n",
    "            'parents_portion': 0.3,\n",
    "            'crossover_type':'uniform',\n",
    "            'max_iteration_without_improv':None}\n",
    "\n",
    "model = ga(function = solutionScore, dimension = dim, variable_type = \"int\", variable_boundaries = varbounds, algorithm_parameters=algoParams)\n",
    "model.run()"
   ]
  },
  {
   "cell_type": "code",
   "execution_count": 8,
   "metadata": {},
   "outputs": [
    {
     "name": "stdout",
     "output_type": "stream",
     "text": [
      " The best solution found:                                                                           \n",
      " [0. 0. 0. 0. 0. 0. 1. 1. 0. 0. 0. 0. 0. 1. 0. 0. 0. 0. 1. 1. 0. 0. 0. 0.\n",
      " 0. 0. 1. 0. 1. 1. 1. 0. 0. 0. 0. 0. 0. 0. 1. 0. 0. 0. 1. 0. 0. 1. 0. 1.\n",
      " 1. 0. 0. 0. 0. 1. 0. 0. 0. 0. 0. 1. 0. 0. 0. 1. 0. 1. 1. 0. 0. 1. 0. 0.\n",
      " 0. 0. 0. 1. 0. 0. 0. 0. 1. 0. 0. 0. 0. 0. 0. 1. 0. 0. 0. 0. 0. 0. 0. 0.\n",
      " 0. 0. 0. 0. 1. 0. 1. 0. 0. 0. 0. 1. 0. 1. 0. 0. 1. 0. 0. 1. 1. 0. 1. 0.]\n",
      "\n",
      " Objective function:\n",
      " 246.0\n"
     ]
    },
    {
     "data": {
      "image/png": "[encoded data removed]",
      "text/plain": [
       "<Figure size 432x288 with 1 Axes>"
      ]
     },
     "metadata": {
      "needs_background": "light"
     },
     "output_type": "display_data"
    }
   ],
   "source": [
    "#Trying diffrent params\n",
    "algoParams={'max_num_iteration': 10000,\n",
    "            'population_size':100\n",
    "            'mutation_probability':0.5,\n",
    "            'elit_ratio': 0.01,\n",
    "            'crossover_probability': 0.5,\n",
    "            'parents_portion': 0.3,\n",
    "            'crossover_type':'uniform',\n",
    "            'max_iteration_without_improv':None}\n",
    "\n",
    "model = ga(function = solutionScore, dimension = dim, variable_type = \"int\", variable_boundaries = varbounds, algorithm_parameters=algoParams)\n",
    "model.run()"
   ]
  },
  {
   "cell_type": "code",
   "execution_count": null,
   "metadata": {},
   "outputs": [],
   "source": [
    "#didn't get really good results from any of the runs"
   ]
  }
 ],
 "metadata": {
  "kernelspec": {
   "display_name": "Python 3",
   "language": "python",
   "name": "python3"
  },
  "language_info": {
   "codemirror_mode": {
    "name": "ipython",
    "version": 3
   },
   "file_extension": ".py",
   "mimetype": "text/x-python",
   "name": "python",
   "nbconvert_exporter": "python",
   "pygments_lexer": "ipython3",
   "version": "3.7.3"
  }
 },
 "nbformat": 4,
 "nbformat_minor": 2
}
