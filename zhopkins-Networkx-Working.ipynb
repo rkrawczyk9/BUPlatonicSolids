{
 "cells": [
  {
   "cell_type": "markdown",
   "metadata": {},
   "source": [
    "# Playing with NetworkX"
   ]
  },
  {
   "cell_type": "code",
   "execution_count": 4,
   "metadata": {},
   "outputs": [],
   "source": [
    "import networkx as nx\n",
    "G=nx.Graph()"
   ]
  },
  {
   "cell_type": "code",
   "execution_count": 5,
   "metadata": {},
   "outputs": [
    {
     "data": {
      "text/plain": [
       "NodeView((1, 2, 3, 4, 5))"
      ]
     },
     "execution_count": 5,
     "metadata": {},
     "output_type": "execute_result"
    }
   ],
   "source": [
    "G.add_node(1)\n",
    "G.add_node(2)\n",
    "G.add_node(3)\n",
    "G.add_node(4)\n",
    "G.add_node(5)\n",
    "G.nodes()"
   ]
  },
  {
   "cell_type": "code",
   "execution_count": 6,
   "metadata": {},
   "outputs": [],
   "source": [
    "G.add_node(\"s\")"
   ]
  },
  {
   "cell_type": "code",
   "execution_count": 7,
   "metadata": {},
   "outputs": [
    {
     "data": {
      "text/plain": [
       "EdgeView([(1, 2), (1, 3), (2, 3), (4, 5)])"
      ]
     },
     "execution_count": 7,
     "metadata": {},
     "output_type": "execute_result"
    }
   ],
   "source": [
    "G.add_edge(1,2)\n",
    "G.add_edge(2,3)\n",
    "G.add_edge(3,1)\n",
    "G.add_edge(4,5)\n",
    "G.edges()"
   ]
  },
  {
   "cell_type": "code",
   "execution_count": 8,
   "metadata": {},
   "outputs": [],
   "source": [
    "import matplotlib.pyplot as plt"
   ]
  },
  {
   "cell_type": "code",
   "execution_count": 9,
   "metadata": {},
   "outputs": [
    {
     "name": "stderr",
     "output_type": "stream",
     "text": [
      "C:\\Users\\zhpok\\Anaconda3\\lib\\site-packages\\networkx\\drawing\\nx_pylab.py:579: MatplotlibDeprecationWarning: \n",
      "The iterable function was deprecated in Matplotlib 3.1 and will be removed in 3.3. Use np.iterable instead.\n",
      "  if not cb.iterable(width):\n"
     ]
    },
    {
     "data": {
      "image/png": "[encoded data removed]",
      "text/plain": [
       "<Figure size 432x288 with 1 Axes>"
      ]
     },
     "metadata": {},
     "output_type": "display_data"
    }
   ],
   "source": [
    "nx.draw(G)"
   ]
  },
  {
   "cell_type": "code",
   "execution_count": 10,
   "metadata": {},
   "outputs": [
    {
     "data": {
      "image/png": "[encoded data removed]",
      "text/plain": [
       "<Figure size 432x288 with 1 Axes>"
      ]
     },
     "metadata": {},
     "output_type": "display_data"
    }
   ],
   "source": [
    "nx.draw(G,with_labels=1,node_color='g')"
   ]
  },
  {
   "cell_type": "markdown",
   "metadata": {},
   "source": [
    "# Hard coded shapes an random test code things"
   ]
  },
  {
   "cell_type": "code",
   "execution_count": 11,
   "metadata": {},
   "outputs": [],
   "source": [
    "#hard coded kevin matrix\n",
    "#row is a face and column is a vertex\n",
    "tetrahedron = [\n",
    "    [1,1,1,0],\n",
    "    [1,0,1,1],\n",
    "    [1,1,0,1],\n",
    "    [0,1,1,1]\n",
    "]\n",
    "sqaure = [\n",
    "    [1,1,1,1,0,0,0,0],\n",
    "    [1,1,0,0,1,1,0,0],\n",
    "    [0,1,1,0,0,1,1,0],\n",
    "    [0,0,1,1,0,0,1,1],\n",
    "    [1,0,0,1,1,0,0,1],\n",
    "    [0,0,0,0,1,1,1,1]\n",
    "]"
   ]
  },
  {
   "cell_type": "code",
   "execution_count": 12,
   "metadata": {},
   "outputs": [
    {
     "name": "stdout",
     "output_type": "stream",
     "text": [
      "A\n"
     ]
    }
   ],
   "source": [
    "#import the alphabet to label faces\n",
    "from string import ascii_uppercase\n",
    "print(ascii_uppercase[0])"
   ]
  },
  {
   "cell_type": "markdown",
   "metadata": {},
   "source": [
    "# Trying to make the face vertex graph "
   ]
  },
  {
   "cell_type": "code",
   "execution_count": 13,
   "metadata": {},
   "outputs": [],
   "source": [
    "#create the graph and the loop through and add the faces to the graph\n",
    "faceGraph = nx.Graph()\n",
    "for i in range(0,len(tetrahedron)):\n",
    "    faceGraph.add_node(ascii_uppercase[i])"
   ]
  },
  {
   "cell_type": "code",
   "execution_count": 14,
   "metadata": {
    "scrolled": true
   },
   "outputs": [
    {
     "data": {
      "image/png": "[encoded data removed]",
      "text/plain": [
       "<Figure size 432x288 with 1 Axes>"
      ]
     },
     "metadata": {},
     "output_type": "display_data"
    }
   ],
   "source": [
    "nx.draw(faceGraph,with_labels=1)"
   ]
  },
  {
   "cell_type": "code",
   "execution_count": 15,
   "metadata": {},
   "outputs": [
    {
     "name": "stdout",
     "output_type": "stream",
     "text": [
      "['A', 'B', 'C']\n"
     ]
    }
   ],
   "source": [
    "#finds all the faces a vertx is touching. Change i to switch vertices\n",
    "i = 0\n",
    "shapeMatrix = tetrahedron\n",
    "arrTouchingFaces = []\n",
    "for j in range(0,len(shapeMatrix)):\n",
    "    if shapeMatrix[j][i] == 1:\n",
    "        arrTouchingFaces.append(ascii_uppercase[j])\n",
    "print(arrTouchingFaces)"
   ]
  },
  {
   "cell_type": "code",
   "execution_count": 16,
   "metadata": {},
   "outputs": [
    {
     "name": "stdout",
     "output_type": "stream",
     "text": [
      "['A', 'C', 'D']\n"
     ]
    },
    {
     "ename": "NameError",
     "evalue": "name 'edgeCreator' is not defined",
     "output_type": "error",
     "traceback": [
      "\u001b[1;31m---------------------------------------------------------------------------\u001b[0m",
      "\u001b[1;31mNameError\u001b[0m                                 Traceback (most recent call last)",
      "\u001b[1;32m<ipython-input-16-05d53eee09d2>\u001b[0m in \u001b[0;36m<module>\u001b[1;34m\u001b[0m\n\u001b[0;32m     16\u001b[0m \u001b[1;31m############################################\u001b[0m\u001b[1;33m\u001b[0m\u001b[1;33m\u001b[0m\u001b[1;33m\u001b[0m\u001b[0m\n\u001b[0;32m     17\u001b[0m \u001b[0mfirstFace\u001b[0m \u001b[1;33m=\u001b[0m \u001b[0marrTouchingFaces\u001b[0m\u001b[1;33m.\u001b[0m\u001b[0mpop\u001b[0m\u001b[1;33m(\u001b[0m\u001b[1;36m0\u001b[0m\u001b[1;33m)\u001b[0m\u001b[1;33m\u001b[0m\u001b[1;33m\u001b[0m\u001b[0m\n\u001b[1;32m---> 18\u001b[1;33m \u001b[0medgeCreator\u001b[0m\u001b[1;33m(\u001b[0m\u001b[0mtestFaceGraph\u001b[0m\u001b[1;33m,\u001b[0m \u001b[0mfirstFace\u001b[0m\u001b[1;33m,\u001b[0m \u001b[0marrTouchingFaces\u001b[0m\u001b[1;33m,\u001b[0m\u001b[0mvertId\u001b[0m\u001b[1;33m+\u001b[0m\u001b[1;36m1\u001b[0m\u001b[1;33m)\u001b[0m\u001b[1;33m\u001b[0m\u001b[1;33m\u001b[0m\u001b[0m\n\u001b[0m\u001b[0;32m     19\u001b[0m \u001b[0mnx\u001b[0m\u001b[1;33m.\u001b[0m\u001b[0mdraw\u001b[0m\u001b[1;33m(\u001b[0m\u001b[0mtestFaceGraph\u001b[0m\u001b[1;33m,\u001b[0m\u001b[0mwith_labels\u001b[0m\u001b[1;33m=\u001b[0m\u001b[1;36m1\u001b[0m\u001b[1;33m)\u001b[0m\u001b[1;33m\u001b[0m\u001b[1;33m\u001b[0m\u001b[0m\n",
      "\u001b[1;31mNameError\u001b[0m: name 'edgeCreator' is not defined"
     ]
    }
   ],
   "source": [
    "#Reused From Above#\n",
    "#This is used for testing edgeCreator\n",
    "###################################################\n",
    "vertId = 1\n",
    "\n",
    "testFaceGraph = nx.Graph()\n",
    "for i in range(0,len(tetrahedron)):\n",
    "    testFaceGraph.add_node(ascii_uppercase[i])\n",
    "    \n",
    "shapeMatrix = tetrahedron\n",
    "arrTouchingFaces = []\n",
    "for j in range(0,len(shapeMatrix)):\n",
    "    if shapeMatrix[j][vertId] == 1:\n",
    "        arrTouchingFaces.append(ascii_uppercase[j])\n",
    "print(arrTouchingFaces)\n",
    "############################################\n",
    "firstFace = arrTouchingFaces.pop(0)\n",
    "edgeCreator(testFaceGraph, firstFace, arrTouchingFaces,vertId+1)\n",
    "nx.draw(testFaceGraph,with_labels=1)"
   ]
  },
  {
   "cell_type": "code",
   "execution_count": 17,
   "metadata": {},
   "outputs": [
    {
     "data": {
      "text/plain": [
       "{}"
      ]
     },
     "execution_count": 17,
     "metadata": {},
     "output_type": "execute_result"
    },
    {
     "data": {
      "image/png": "[encoded data removed]",
      "text/plain": [
       "<Figure size 432x288 with 1 Axes>"
      ]
     },
     "metadata": {},
     "output_type": "display_data"
    }
   ],
   "source": [
    "#tried to make the labels of the edges print\n",
    "pos = nx.spring_layout(testFaceGraph)\n",
    "edge_labels = nx.get_edge_attributes(testFaceGraph,'label')\n",
    "nx.draw_networkx_edge_labels(testFaceGraph, pos, edge_labels, font_size=8)"
   ]
  },
  {
   "cell_type": "code",
   "execution_count": 18,
   "metadata": {},
   "outputs": [
    {
     "name": "stdout",
     "output_type": "stream",
     "text": [
      "True\n",
      "[4]\n",
      "1\n",
      "[2, 3, 4]\n"
     ]
    }
   ],
   "source": [
    "arrTestFaces = [1,2,3,4]\n",
    "\n",
    "arrCompletedFaces = []\n",
    "arrCompletedFaces.append(arrTestFaces[len(arrTestFaces)-1])\n",
    "print(arrTestFaces !=arrCompletedFaces)\n",
    "print(arrCompletedFaces)\n",
    "print(arrTestFaces.pop(0))\n",
    "print(arrTestFaces)"
   ]
  },
  {
   "cell_type": "code",
   "execution_count": 19,
   "metadata": {},
   "outputs": [],
   "source": [
    "#function to add edges to graph (networkx Graph, the starting point, all ending arraies)\n",
    "def edgeCreator(graph, startingPoint, arrEndingPoints, vertName):\n",
    "    if arrEndingPoints == []:\n",
    "        return graph\n",
    "    \n",
    "    for face in arrEndingPoints:\n",
    "        graph.add_edge(startingPoint, face, label=vertName)\n",
    "        \n",
    "    newStartingPoint = arrEndingPoints.pop(0)\n",
    "    return edgeCreator(graph, newStartingPoint, arrEndingPoints,vertName)"
   ]
  },
  {
   "cell_type": "code",
   "execution_count": 20,
   "metadata": {},
   "outputs": [],
   "source": [
    "#input a matrix of 1s and 0s indicating if a face is touching a vertx\n",
    "def crazyGraphMaker(shapeMatrix):\n",
    "\n",
    "    #sets up the Graph\n",
    "    shapeGraph = nx.Graph()\n",
    "    \n",
    "    #puts all the nodes into the graph\n",
    "    for i in range(0,len(shapeMatrix)):\n",
    "        shapeGraph.add_node(ascii_uppercase[i])\n",
    "    \n",
    "    \n",
    "    \n",
    "    #loop through the vertices\n",
    "    for i in range(0,len(shapeMatrix[0])):\n",
    "        \n",
    "        #loops through and logs all faces a vertex is touching\n",
    "        arrTouchingFaces = []\n",
    "        for j in range(0,len(shapeMatrix)):\n",
    "            if shapeMatrix[j][i] == 1:\n",
    "                arrTouchingFaces.append(ascii_uppercase[j])\n",
    "    \n",
    "        #takes the first face and the array of the rest to compute all edges related to this vertx \n",
    "        startingFace = arrTouchingFaces.pop(0)\n",
    "        edgeCreator(shapeGraph, startingFace, arrTouchingFaces, i+1)\n",
    "        \n",
    "    return shapeGraph"
   ]
  },
  {
   "cell_type": "code",
   "execution_count": 21,
   "metadata": {
    "scrolled": true
   },
   "outputs": [
    {
     "data": {
      "image/png": "[encoded data removed]",
      "text/plain": [
       "<Figure size 432x288 with 1 Axes>"
      ]
     },
     "metadata": {},
     "output_type": "display_data"
    }
   ],
   "source": [
    "tetraGraph = crazyGraphMaker(tetrahedron)\n",
    "nx.draw(tetraGraph, with_labels=1)"
   ]
  },
  {
   "cell_type": "code",
   "execution_count": 22,
   "metadata": {
    "scrolled": true
   },
   "outputs": [
    {
     "data": {
      "image/png": "[encoded data removed]",
      "text/plain": [
       "<Figure size 432x288 with 1 Axes>"
      ]
     },
     "metadata": {},
     "output_type": "display_data"
    }
   ],
   "source": [
    "squareGraph = crazyGraphMaker(sqaure)\n",
    "nx.draw(squareGraph, with_labels=1)"
   ]
  },
  {
   "cell_type": "code",
   "execution_count": 23,
   "metadata": {},
   "outputs": [
    {
     "name": "stdout",
     "output_type": "stream",
     "text": [
      "{('A', 'B'): 2, ('A', 'E'): 4, ('A', 'C'): 3, ('A', 'D'): 4, ('B', 'E'): 5, ('B', 'C'): 6, ('B', 'F'): 6, ('C', 'D'): 7, ('C', 'F'): 7, ('D', 'E'): 8, ('D', 'F'): 8, ('E', 'F'): 8}\n"
     ]
    }
   ],
   "source": [
    "squareGraph.edges()\n",
    "edge_labels = nx.get_edge_attributes(squareGraph,\"label\")\n",
    "print(edge_labels)"
   ]
  },
  {
   "cell_type": "code",
   "execution_count": 30,
   "metadata": {},
   "outputs": [],
   "source": [
    "import networkx as nx\n",
    "import matplotlib.pyplot as plt\n",
    "from string import ascii_uppercase\n",
    "\n",
    "tetrahedron = [\n",
    "    [1,1,1,0],\n",
    "    [1,0,1,1],\n",
    "    [1,1,0,1],\n",
    "    [0,1,1,1]\n",
    "]\n",
    "sqaure = [\n",
    "    [1,1,1,1,0,0,0,0],\n",
    "    [1,1,0,0,1,1,0,0],\n",
    "    [0,1,1,0,0,1,1,0],\n",
    "    [0,0,1,1,0,0,1,1],\n",
    "    [1,0,0,1,1,0,0,1],\n",
    "    [0,0,0,0,1,1,1,1]\n",
    "]\n",
    "\n",
    "def edgeCreator(graph, startingPoint, arrEndingPoints, vertName):\n",
    "    if arrEndingPoints == []:\n",
    "        return graph\n",
    "    \n",
    "    for face in arrEndingPoints:\n",
    "        graph.add_edge(startingPoint, face, weight=vertName)\n",
    "        \n",
    "    newStartingPoint = arrEndingPoints.pop(0)\n",
    "    return edgeCreator(graph, newStartingPoint, arrEndingPoints,vertName)\n",
    "\n",
    "def crazyGraphMaker(shapeMatrix):\n",
    "\n",
    "    #sets up the Graph\n",
    "    shapeGraph = nx.Graph()\n",
    "    \n",
    "    #puts all the nodes into the graph\n",
    "    for i in range(0,len(shapeMatrix)):\n",
    "        shapeGraph.add_node(ascii_uppercase[i])\n",
    "    \n",
    "    \n",
    "    \n",
    "    #loop through the vertices\n",
    "    for i in range(0,len(shapeMatrix[0])):\n",
    "        \n",
    "        #loops through and logs all faces a vertex is touching\n",
    "        arrTouchingFaces = []\n",
    "        for j in range(0,len(shapeMatrix)):\n",
    "            if shapeMatrix[j][i] == 1:\n",
    "                arrTouchingFaces.append(ascii_uppercase[j])\n",
    "    \n",
    "        #takes the first face and the array of the rest to compute all edges related to this vertx \n",
    "        startingFace = arrTouchingFaces.pop(0)\n",
    "        edgeCreator(shapeGraph, startingFace, arrTouchingFaces, i+1)\n",
    "        \n",
    "    return shapeGraph"
   ]
  },
  {
   "cell_type": "code",
   "execution_count": 25,
   "metadata": {},
   "outputs": [
    {
     "data": {
      "image/png": "[encoded data removed]",
      "text/plain": [
       "<Figure size 432x288 with 1 Axes>"
      ]
     },
     "metadata": {},
     "output_type": "display_data"
    }
   ],
   "source": [
    "tetraGraph = crazyGraphMaker(tetrahedron)\n",
    "nx.draw(tetraGraph, with_labels=1)"
   ]
  },
  {
   "cell_type": "markdown",
   "metadata": {},
   "source": [
    "# trying multigraph"
   ]
  },
  {
   "cell_type": "code",
   "execution_count": 26,
   "metadata": {},
   "outputs": [],
   "source": [
    "MG = nx.MultiGraph()\n",
    "MG.add_node(1)\n",
    "MG.add_node(2)"
   ]
  },
  {
   "cell_type": "code",
   "execution_count": 27,
   "metadata": {},
   "outputs": [
    {
     "data": {
      "text/plain": [
       "networkx.classes.reportviews.MultiEdgeDataView"
      ]
     },
     "execution_count": 27,
     "metadata": {},
     "output_type": "execute_result"
    }
   ],
   "source": [
    "MG.add_edge(1,2,weight=1)\n",
    "MG.add_edge(1,2,weight=2)\n",
    "type(MG.edges())"
   ]
  },
  {
   "cell_type": "code",
   "execution_count": 33,
   "metadata": {},
   "outputs": [
    {
     "data": {
      "text/plain": [
       "MultiEdgeDataView([(1, 2), (1, 2)])"
      ]
     },
     "execution_count": 33,
     "metadata": {},
     "output_type": "execute_result"
    }
   ],
   "source": [
    "edges = MG.edges()\n",
    "edges"
   ]
  },
  {
   "cell_type": "code",
   "execution_count": 29,
   "metadata": {
    "scrolled": true
   },
   "outputs": [
    {
     "data": {
      "image/png": "[encoded data removed]",
      "text/plain": [
       "<Figure size 432x288 with 1 Axes>"
      ]
     },
     "metadata": {},
     "output_type": "display_data"
    }
   ],
   "source": [
    "nx.draw(MG, with_labels=1)"
   ]
  },
  {
   "cell_type": "code",
   "execution_count": null,
   "metadata": {},
   "outputs": [],
   "source": []
  },
  {
   "cell_type": "code",
   "execution_count": 3,
   "metadata": {},
   "outputs": [
    {
     "name": "stdout",
     "output_type": "stream",
     "text": [
      "[3]\n"
     ]
    }
   ],
   "source": [
    "arr1 = [1,2,3]\n",
    "arr2 = [3,4,5]\n",
    "print([i for i in arr1 if i in arr2])"
   ]
  },
  {
   "cell_type": "code",
   "execution_count": 20,
   "metadata": {},
   "outputs": [],
   "source": [
    "import networkx as nx\n",
    "import matplotlib.pyplot as plt\n",
    "from string import ascii_uppercase\n",
    "\n",
    "tetrahedron = [\n",
    "    [1,1,1,0],\n",
    "    [1,0,1,1],\n",
    "    [1,1,0,1],\n",
    "    [0,1,1,1]\n",
    "]\n",
    "sqaure = [\n",
    "    [1,1,1,1,0,0,0,0],\n",
    "    [1,1,0,0,1,1,0,0],\n",
    "    [0,1,1,0,0,1,1,0],\n",
    "    [0,0,1,1,0,0,1,1],\n",
    "    [1,0,0,1,1,0,0,1],\n",
    "    [0,0,0,0,1,1,1,1]\n",
    "]\n",
    "\n",
    "def edgeCreator(graph, startingPoint, arrEndingPoints, vertName):\n",
    "    if arrEndingPoints == []:\n",
    "        return graph\n",
    "    \n",
    "    for face in arrEndingPoints:\n",
    "        graph.add_edge(startingPoint, face, weight=vertName)\n",
    "        \n",
    "    newStartingPoint = arrEndingPoints.pop(0)\n",
    "    return edgeCreator(graph, newStartingPoint, arrEndingPoints,vertName)\n",
    "\n",
    "def crazyMultiGraphMaker(shapeMatrix):\n",
    "\n",
    "    #sets up the Graph\n",
    "    shapeGraph = nx.MultiGraph()\n",
    "    \n",
    "    #puts all the nodes into the graph\n",
    "    for i in range(0,len(shapeMatrix)):\n",
    "        shapeGraph.add_node(i)\n",
    "    \n",
    "    \n",
    "    \n",
    "    #loop through the vertices\n",
    "    for i in range(0,len(shapeMatrix[0])):\n",
    "        \n",
    "        #loops through and logs all faces a vertex is touching\n",
    "        arrTouchingFaces = []\n",
    "        for j in range(0,len(shapeMatrix)):\n",
    "            if shapeMatrix[j][i] == 1:\n",
    "                arrTouchingFaces.append(j)\n",
    "    \n",
    "        #takes the first face and the array of the rest to compute all edges related to this vertx \n",
    "        startingFace = arrTouchingFaces.pop(0)\n",
    "        edgeCreator(shapeGraph, startingFace, arrTouchingFaces, i+1)\n",
    "        \n",
    "    return shapeGraph"
   ]
  },
  {
   "cell_type": "code",
   "execution_count": 21,
   "metadata": {},
   "outputs": [],
   "source": [
    "tetraMultiGraph = crazyMultiGraphMaker(tetrahedron)"
   ]
  },
  {
   "cell_type": "code",
   "execution_count": 22,
   "metadata": {},
   "outputs": [
    {
     "data": {
      "text/plain": [
       "MultiEdgeDataView([(0, 1), (0, 1), (0, 2), (0, 2), (0, 3), (0, 3), (1, 2), (1, 2), (1, 3), (1, 3), (2, 3), (2, 3)])"
      ]
     },
     "execution_count": 22,
     "metadata": {},
     "output_type": "execute_result"
    }
   ],
   "source": [
    "tetraMultiGraph.edges()"
   ]
  },
  {
   "cell_type": "code",
   "execution_count": 23,
   "metadata": {},
   "outputs": [],
   "source": [
    "squareMultiGraph = crazyMultiGraphMaker(sqaure)"
   ]
  },
  {
   "cell_type": "code",
   "execution_count": 24,
   "metadata": {},
   "outputs": [
    {
     "data": {
      "text/plain": [
       "MultiEdgeDataView([(0, 1), (0, 1), (0, 4), (0, 4), (0, 2), (0, 2), (0, 3), (0, 3), (1, 4), (1, 4), (1, 2), (1, 2), (1, 5), (1, 5), (2, 3), (2, 3), (2, 5), (2, 5), (3, 4), (3, 4), (3, 5), (3, 5), (4, 5), (4, 5)])"
      ]
     },
     "execution_count": 24,
     "metadata": {},
     "output_type": "execute_result"
    }
   ],
   "source": [
    "squareMultiGraph.edges()"
   ]
  },
  {
   "cell_type": "code",
   "execution_count": 27,
   "metadata": {},
   "outputs": [
    {
     "data": {
      "text/plain": [
       "AtlasView({0: {'weight': 1}, 1: {'weight': 2}})"
      ]
     },
     "execution_count": 27,
     "metadata": {},
     "output_type": "execute_result"
    }
   ],
   "source": [
    "squareMultiGraph[0][1]"
   ]
  }
 ],
 "metadata": {
  "kernelspec": {
   "display_name": "Python 3",
   "language": "python",
   "name": "python3"
  },
  "language_info": {
   "codemirror_mode": {
    "name": "ipython",
    "version": 3
   },
   "file_extension": ".py",
   "mimetype": "text/x-python",
   "name": "python",
   "nbconvert_exporter": "python",
   "pygments_lexer": "ipython3",
   "version": "3.7.3"
  }
 },
 "nbformat": 4,
 "nbformat_minor": 2
}
